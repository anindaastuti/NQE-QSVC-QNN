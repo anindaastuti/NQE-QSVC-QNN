{
 "cells": [
  {
   "cell_type": "markdown",
   "id": "sGiI0lOXHmZb",
   "metadata": {
    "id": "sGiI0lOXHmZb"
   },
   "source": [
    "**1. Packages installation**"
   ]
  },
  {
   "cell_type": "code",
   "execution_count": null,
   "id": "7d046e31-6ef0-47d8-ba7d-39c5ee9ede65",
   "metadata": {
    "executionInfo": {
     "elapsed": 2893,
     "status": "ok",
     "timestamp": 1718175994738,
     "user": {
      "displayName": "aninda astuti",
      "userId": "13240177680153554239"
     },
     "user_tz": -480
    },
    "id": "7d046e31-6ef0-47d8-ba7d-39c5ee9ede65",
    "tags": []
   },
   "outputs": [],
   "source": [
    "#Import Package\n",
    "\n",
    "from sklearn.decomposition import PCA\n",
    "from sklearn.preprocessing import StandardScaler\n",
    "from sklearn.model_selection import train_test_split\n",
    "import pandas as pd\n",
    "from sklearn.metrics import accuracy_score\n",
    "import matplotlib.pyplot as plt\n",
    "import numpy as np\n",
    "import warnings\n",
    "warnings.filterwarnings('ignore')\n",
    "from sklearn import svm\n",
    "#from sklearn.svm import SVC\n",
    "from sklearn.metrics import confusion_matrix,ConfusionMatrixDisplay\n",
    "from sklearn.metrics import classification_report,accuracy_score,recall_score, f1_score\n",
    "from sklearn.model_selection import GridSearchCV,StratifiedKFold\n",
    "from sklearn.model_selection import  cross_val_score"
   ]
  },
  {
   "cell_type": "code",
   "execution_count": null,
   "id": "VEnsmixAIw2T",
   "metadata": {
    "colab": {
     "base_uri": "https://localhost:8080/"
    },
    "executionInfo": {
     "elapsed": 35123,
     "status": "ok",
     "timestamp": 1718176056325,
     "user": {
      "displayName": "aninda astuti",
      "userId": "13240177680153554239"
     },
     "user_tz": -480
    },
    "id": "VEnsmixAIw2T",
    "outputId": "1ab9ae32-1c52-408c-db73-1ff6869960c9"
   },
   "outputs": [],
   "source": [
    "#pip install qiskit-machine-learning"
   ]
  },
  {
   "cell_type": "code",
   "execution_count": null,
   "id": "hfVZcr3FIz6Q",
   "metadata": {
    "colab": {
     "base_uri": "https://localhost:8080/"
    },
    "executionInfo": {
     "elapsed": 6994,
     "status": "ok",
     "timestamp": 1718176063315,
     "user": {
      "displayName": "aninda astuti",
      "userId": "13240177680153554239"
     },
     "user_tz": -480
    },
    "id": "hfVZcr3FIz6Q",
    "outputId": "1d3bd5ba-99bb-440d-a0cb-67763c4f05e3"
   },
   "outputs": [],
   "source": [
    "#pip install qiskit-algorithms"
   ]
  },
  {
   "cell_type": "code",
   "execution_count": null,
   "id": "dzSYXoCEI_IT",
   "metadata": {
    "colab": {
     "base_uri": "https://localhost:8080/"
    },
    "executionInfo": {
     "elapsed": 12413,
     "status": "ok",
     "timestamp": 1718176075725,
     "user": {
      "displayName": "aninda astuti",
      "userId": "13240177680153554239"
     },
     "user_tz": -480
    },
    "id": "dzSYXoCEI_IT",
    "outputId": "c278c481-98e9-4b72-a5c3-d3c701f40af8"
   },
   "outputs": [],
   "source": [
    "#pip install qiskit_aer"
   ]
  },
  {
   "cell_type": "code",
   "execution_count": null,
   "id": "fQkWeA0vJCEI",
   "metadata": {
    "colab": {
     "base_uri": "https://localhost:8080/"
    },
    "executionInfo": {
     "elapsed": 42309,
     "status": "ok",
     "timestamp": 1718176118017,
     "user": {
      "displayName": "aninda astuti",
      "userId": "13240177680153554239"
     },
     "user_tz": -480
    },
    "id": "fQkWeA0vJCEI",
    "outputId": "b7d13d39-3e52-4559-a060-02fb965c2edd"
   },
   "outputs": [],
   "source": [
    "#pip install qiskit_ibm_runtime"
   ]
  },
  {
   "cell_type": "code",
   "execution_count": null,
   "id": "u3p-k0mZJHgo",
   "metadata": {
    "colab": {
     "base_uri": "https://localhost:8080/"
    },
    "executionInfo": {
     "elapsed": 13656,
     "status": "ok",
     "timestamp": 1718176137229,
     "user": {
      "displayName": "aninda astuti",
      "userId": "13240177680153554239"
     },
     "user_tz": -480
    },
    "id": "u3p-k0mZJHgo",
    "outputId": "7defb486-9424-4bfd-9eb2-4bfdd82f2f5f"
   },
   "outputs": [],
   "source": [
    "#pip install tensorflow"
   ]
  },
  {
   "cell_type": "code",
   "execution_count": null,
   "id": "425fea79-7a88-458f-a21e-7255af3aee35",
   "metadata": {},
   "outputs": [],
   "source": [
    "#pip install torch torchvision torchaudio"
   ]
  },
  {
   "cell_type": "markdown",
   "id": "AfKhKGAlH2NA",
   "metadata": {
    "id": "AfKhKGAlH2NA"
   },
   "source": [
    "**2. Read Input Dataset**"
   ]
  },
  {
   "cell_type": "code",
   "execution_count": null,
   "id": "fc87d983-8547-4010-b676-6756573717ce",
   "metadata": {
    "colab": {
     "base_uri": "https://localhost:8080/",
     "height": 461
    },
    "executionInfo": {
     "elapsed": 744,
     "status": "ok",
     "timestamp": 1718176251909,
     "user": {
      "displayName": "aninda astuti",
      "userId": "13240177680153554239"
     },
     "user_tz": -480
    },
    "id": "fc87d983-8547-4010-b676-6756573717ce",
    "outputId": "d80e089a-1908-40d0-bab1-2e9c1d2b8a7b",
    "tags": []
   },
   "outputs": [],
   "source": [
    "#Read KIRC datasets\n",
    "\n",
    "df= pd.read_csv(\"C:/Users/USER/NQE+QSVM/mRNA/KIRC_outliers_fix.csv\")\n",
    "\n",
    "df  "
   ]
  },
  {
   "cell_type": "code",
   "execution_count": null,
   "id": "f215b753-0f23-4eb9-a3eb-0f9f14f3b20e",
   "metadata": {},
   "outputs": [],
   "source": [
    "#pwd"
   ]
  },
  {
   "cell_type": "code",
   "execution_count": null,
   "id": "b7e397cc-f84c-4ad2-9330-649c997ffc66",
   "metadata": {},
   "outputs": [],
   "source": [
    "import seaborn as sns\n",
    "feat_df = df[['ENSG00000004939.12','ENSG00000070915.8','ENSG00000074803.16','ENSG00000086159.11','ENSG00000100362.11','ENSG00000102678.6','ENSG00000104413.14','Class Labels']]\n",
    "sns.pairplot(feat_df, hue='Class Labels')"
   ]
  },
  {
   "cell_type": "code",
   "execution_count": null,
   "id": "18657319-6f59-4132-b428-b1573a7ae3c0",
   "metadata": {
    "colab": {
     "base_uri": "https://localhost:8080/"
    },
    "executionInfo": {
     "elapsed": 289,
     "status": "ok",
     "timestamp": 1718176264574,
     "user": {
      "displayName": "aninda astuti",
      "userId": "13240177680153554239"
     },
     "user_tz": -480
    },
    "id": "18657319-6f59-4132-b428-b1573a7ae3c0",
    "outputId": "a24ae9bd-a587-41be-afca-b99d89d2ee98",
    "tags": []
   },
   "outputs": [],
   "source": [
    "#Number of data and column(502 data patients,48 gene features,1 class labels  )\n",
    "print(\"The shape of the dataset :\",df.shape)"
   ]
  },
  {
   "cell_type": "code",
   "execution_count": null,
   "id": "25918ea0-3ebf-4762-b5cb-ac3c72b83ef8",
   "metadata": {
    "colab": {
     "base_uri": "https://localhost:8080/"
    },
    "executionInfo": {
     "elapsed": 2,
     "status": "ok",
     "timestamp": 1718176265841,
     "user": {
      "displayName": "aninda astuti",
      "userId": "13240177680153554239"
     },
     "user_tz": -480
    },
    "id": "25918ea0-3ebf-4762-b5cb-ac3c72b83ef8",
    "outputId": "79e5573f-af7f-4fb6-a801-52204de0d8a0",
    "tags": []
   },
   "outputs": [],
   "source": [
    "# Class label (0 = non metastasis(Negative), 1 = metastasis(Positive))\n",
    "\n",
    "print(\"Number of data each class :\")\n",
    "print(df['Class Labels'].value_counts())"
   ]
  },
  {
   "cell_type": "code",
   "execution_count": null,
   "id": "ee023d58-e453-42ff-9f30-d9a498dd98e0",
   "metadata": {
    "colab": {
     "base_uri": "https://localhost:8080/"
    },
    "executionInfo": {
     "elapsed": 3,
     "status": "ok",
     "timestamp": 1718176266967,
     "user": {
      "displayName": "aninda astuti",
      "userId": "13240177680153554239"
     },
     "user_tz": -480
    },
    "id": "ee023d58-e453-42ff-9f30-d9a498dd98e0",
    "outputId": "bd5417ca-65bc-4fb2-c560-a488edef5bc2",
    "tags": []
   },
   "outputs": [],
   "source": [
    "#select 48 column gene(Features)\n",
    "column_data = df.drop('Class Labels',axis=1)\n",
    "#nc=df.drop(48,axis=0)\n",
    "print ('48 features :',column_data.columns)\n",
    "#print ('48 features :',nc.columns)"
   ]
  },
  {
   "cell_type": "code",
   "execution_count": null,
   "id": "c6e75cc8-1524-4982-b5bf-ae9e968b8787",
   "metadata": {
    "colab": {
     "base_uri": "https://localhost:8080/"
    },
    "executionInfo": {
     "elapsed": 284,
     "status": "ok",
     "timestamp": 1718176272317,
     "user": {
      "displayName": "aninda astuti",
      "userId": "13240177680153554239"
     },
     "user_tz": -480
    },
    "id": "c6e75cc8-1524-4982-b5bf-ae9e968b8787",
    "outputId": "581c0e62-d99a-478d-d5c4-79d68c03f697",
    "tags": []
   },
   "outputs": [],
   "source": [
    "#features are gene values each column (X)\n",
    "#take the values each column gene\n",
    "features = column_data.values\n",
    "print(\"Feature values each column :\\n\",features)"
   ]
  },
  {
   "cell_type": "code",
   "execution_count": null,
   "id": "76c9403e-04e6-411c-9a64-431cfaa4a1b9",
   "metadata": {
    "scrolled": true
   },
   "outputs": [],
   "source": [
    "from sklearn.preprocessing import MinMaxScaler\n",
    "# scale features\n",
    "scaler = MinMaxScaler()\n",
    "model=scaler.fit(features)\n",
    "scaled_data=model.transform(features)\n",
    " \n",
    "# print scaled features\n",
    "print(scaled_data)"
   ]
  },
  {
   "cell_type": "markdown",
   "id": "yBT8vGLgIb8C",
   "metadata": {
    "id": "yBT8vGLgIb8C"
   },
   "source": [
    "**3.PCA**"
   ]
  },
  {
   "cell_type": "code",
   "execution_count": null,
   "id": "MGrJwUdeSX5a",
   "metadata": {
    "colab": {
     "base_uri": "https://localhost:8080/"
    },
    "executionInfo": {
     "elapsed": 277,
     "status": "ok",
     "timestamp": 1718176314556,
     "user": {
      "displayName": "aninda astuti",
      "userId": "13240177680153554239"
     },
     "user_tz": -480
    },
    "id": "MGrJwUdeSX5a",
    "outputId": "f608aeb3-8b2b-48de-c179-d5343360761d"
   },
   "outputs": [],
   "source": [
    "#Compute Covariance Matrix\n",
    "cov_matrix = np.cov(df, rowvar=False)\n",
    "cov_matrix"
   ]
  },
  {
   "cell_type": "code",
   "execution_count": null,
   "id": "fn3oFzw6S64c",
   "metadata": {
    "colab": {
     "base_uri": "https://localhost:8080/"
    },
    "executionInfo": {
     "elapsed": 262,
     "status": "ok",
     "timestamp": 1718176449966,
     "user": {
      "displayName": "aninda astuti",
      "userId": "13240177680153554239"
     },
     "user_tz": -480
    },
    "id": "fn3oFzw6S64c",
    "outputId": "386c528c-a5bf-4cce-92c0-2fd80d195d30"
   },
   "outputs": [],
   "source": [
    "#Find Eigenvalues\n",
    "eigenvalues, _ = np.linalg.eig(cov_matrix)\n",
    "eigenvalues"
   ]
  },
  {
   "cell_type": "code",
   "execution_count": null,
   "id": "BaHuO8FITNac",
   "metadata": {
    "colab": {
     "base_uri": "https://localhost:8080/"
    },
    "executionInfo": {
     "elapsed": 310,
     "status": "ok",
     "timestamp": 1718176518032,
     "user": {
      "displayName": "aninda astuti",
      "userId": "13240177680153554239"
     },
     "user_tz": -480
    },
    "id": "BaHuO8FITNac",
    "outputId": "120425cf-f542-40bd-c3a2-1333af0c8d57"
   },
   "outputs": [],
   "source": [
    "#Sort Eigenvalues\n",
    "sorted_eigenvalues = np.sort(eigenvalues)[::-1]\n",
    "sorted_eigenvalues"
   ]
  },
  {
   "cell_type": "code",
   "execution_count": null,
   "id": "_68yRpT7Th_-",
   "metadata": {
    "colab": {
     "base_uri": "https://localhost:8080/"
    },
    "executionInfo": {
     "elapsed": 384,
     "status": "ok",
     "timestamp": 1718176615972,
     "user": {
      "displayName": "aninda astuti",
      "userId": "13240177680153554239"
     },
     "user_tz": -480
    },
    "id": "_68yRpT7Th_-",
    "outputId": "a6863d24-3981-49f0-b816-ba50b440e1f4"
   },
   "outputs": [],
   "source": [
    "#Compute sum of the first 9 eigenvalues\n",
    "sum_first_9 = np.sum(sorted_eigenvalues[:9])\n",
    "sum_first_9"
   ]
  },
  {
   "cell_type": "code",
   "execution_count": null,
   "id": "WhaEnwViTwmW",
   "metadata": {
    "colab": {
     "base_uri": "https://localhost:8080/"
    },
    "executionInfo": {
     "elapsed": 344,
     "status": "ok",
     "timestamp": 1718176669117,
     "user": {
      "displayName": "aninda astuti",
      "userId": "13240177680153554239"
     },
     "user_tz": -480
    },
    "id": "WhaEnwViTwmW",
    "outputId": "841314eb-c9c0-4159-9eb6-28366cdbb594"
   },
   "outputs": [],
   "source": [
    "#calculate ratio for 9 eigenvalues\n",
    "ratio_9 = sum_first_9 / np.sum(eigenvalues)\n",
    "ratio_9"
   ]
  },
  {
   "cell_type": "code",
   "execution_count": null,
   "id": "BpT037G_T_xB",
   "metadata": {
    "colab": {
     "base_uri": "https://localhost:8080/"
    },
    "executionInfo": {
     "elapsed": 304,
     "status": "ok",
     "timestamp": 1718176728407,
     "user": {
      "displayName": "aninda astuti",
      "userId": "13240177680153554239"
     },
     "user_tz": -480
    },
    "id": "BpT037G_T_xB",
    "outputId": "e4e0f258-d9cf-4511-9f1d-0fe5f2f8d8bc"
   },
   "outputs": [],
   "source": [
    "#Compute sum of the first 12 eigenvalues\n",
    "sum_first_12 = np.sum(sorted_eigenvalues[:12])\n",
    "sum_first_12"
   ]
  },
  {
   "cell_type": "code",
   "execution_count": null,
   "id": "aF8OgufDUcOm",
   "metadata": {
    "colab": {
     "base_uri": "https://localhost:8080/"
    },
    "executionInfo": {
     "elapsed": 341,
     "status": "ok",
     "timestamp": 1718176848358,
     "user": {
      "displayName": "aninda astuti",
      "userId": "13240177680153554239"
     },
     "user_tz": -480
    },
    "id": "aF8OgufDUcOm",
    "outputId": "80574bbb-79a1-4fe7-9894-a87cf206609a"
   },
   "outputs": [],
   "source": [
    "#Calculate ratio for 12 eigenvalues\n",
    "ratio_12 = sum_first_12 / np.sum(eigenvalues)\n",
    "ratio_12"
   ]
  },
  {
   "cell_type": "code",
   "execution_count": null,
   "id": "xER7Xdg2Wd9Z",
   "metadata": {
    "colab": {
     "base_uri": "https://localhost:8080/"
    },
    "executionInfo": {
     "elapsed": 353,
     "status": "ok",
     "timestamp": 1718177433134,
     "user": {
      "displayName": "aninda astuti",
      "userId": "13240177680153554239"
     },
     "user_tz": -480
    },
    "id": "xER7Xdg2Wd9Z",
    "outputId": "d2086ad1-10ef-49f5-c36e-a59e55e320af"
   },
   "outputs": [],
   "source": [
    "# Format results to 3 significant figures\n",
    "formatted_ratio_9 = \"{:.3g}\".format(ratio_9)\n",
    "formatted_ratio_12 = \"{:.3g}\".format(ratio_12)\n",
    "\n",
    "# Print results\n",
    "print(\"Ratio for first 9 eigenvalues:\", formatted_ratio_9)\n",
    "print(\"Ratio for first 12 eigenvalues:\", formatted_ratio_12)"
   ]
  },
  {
   "cell_type": "code",
   "execution_count": null,
   "id": "9e0adc1a-2573-440d-911a-b230e72b7d0e",
   "metadata": {
    "colab": {
     "base_uri": "https://localhost:8080/"
    },
    "executionInfo": {
     "elapsed": 386,
     "status": "ok",
     "timestamp": 1717817295839,
     "user": {
      "displayName": "aninda astuti",
      "userId": "13240177680153554239"
     },
     "user_tz": -480
    },
    "id": "9e0adc1a-2573-440d-911a-b230e72b7d0e",
    "outputId": "0a975c21-4c69-4b7b-de0c-afc35bd63280",
    "tags": []
   },
   "outputs": [],
   "source": [
    "C = np.cov(features, rowvar = False)\n",
    "C"
   ]
  },
  {
   "cell_type": "code",
   "execution_count": null,
   "id": "2386d68d-6213-48af-8fe5-cb7fe13fc84e",
   "metadata": {
    "colab": {
     "base_uri": "https://localhost:8080/"
    },
    "executionInfo": {
     "elapsed": 565,
     "status": "ok",
     "timestamp": 1717817301529,
     "user": {
      "displayName": "aninda astuti",
      "userId": "13240177680153554239"
     },
     "user_tz": -480
    },
    "id": "2386d68d-6213-48af-8fe5-cb7fe13fc84e",
    "outputId": "c27c1123-d844-4007-f12e-653778ad9147",
    "tags": []
   },
   "outputs": [],
   "source": [
    "#eignvalues\n",
    "\n",
    "eigenvalues,eigenvectors = np.linalg.eig(C)\n",
    "u, sigma, vt=np.linalg.svd(C)\n",
    "print('eigenvalues :',eigenvalues)\n",
    "print('eigenvectors :',eigenvectors)\n",
    "print('sigma :',sigma)"
   ]
  },
  {
   "cell_type": "code",
   "execution_count": null,
   "id": "173251ca-92d1-4351-8183-7bdd07526817",
   "metadata": {
    "id": "173251ca-92d1-4351-8183-7bdd07526817",
    "tags": []
   },
   "outputs": [],
   "source": [
    "#Create dimension reduction from 48 features to 10 features\n",
    "n_com=12\n",
    "n_feat=n_com\n",
    "pca=PCA(n_components=n_com)\n",
    "principalComponents=pca.fit_transform(features)"
   ]
  },
  {
   "cell_type": "code",
   "execution_count": null,
   "id": "3e090c04-6274-4074-8465-2d5543076f27",
   "metadata": {
    "colab": {
     "base_uri": "https://localhost:8080/",
     "height": 447
    },
    "executionInfo": {
     "elapsed": 1908,
     "status": "ok",
     "timestamp": 1717817310152,
     "user": {
      "displayName": "aninda astuti",
      "userId": "13240177680153554239"
     },
     "user_tz": -480
    },
    "id": "3e090c04-6274-4074-8465-2d5543076f27",
    "outputId": "ae4350e2-2cfa-4b14-e356-c3f35af8073a",
    "tags": []
   },
   "outputs": [],
   "source": [
    "#save the 9PCs using dataframe\n",
    "principalDf=pd.DataFrame(data=principalComponents,\n",
    "                         columns=['PC1',\n",
    "                                  'PC2',\n",
    "                                  'PC3', 'PC4','PC5','PC6','PC7','PC8','PC9','PC10','PC11','PC12'])\n",
    "finalDf=pd.concat([principalDf, df[['Class Labels']]],axis=1)\n",
    "finalDf.head()\n",
    "pd.plotting.parallel_coordinates(\n",
    "finalDf, 'Class Labels', color=('#556270', '#4ECDC4'))"
   ]
  },
  {
   "cell_type": "code",
   "execution_count": null,
   "id": "549e0d9b-f6cb-4c24-8e4d-46454facc736",
   "metadata": {
    "colab": {
     "base_uri": "https://localhost:8080/",
     "height": 206
    },
    "executionInfo": {
     "elapsed": 3,
     "status": "ok",
     "timestamp": 1717817319746,
     "user": {
      "displayName": "aninda astuti",
      "userId": "13240177680153554239"
     },
     "user_tz": -480
    },
    "id": "549e0d9b-f6cb-4c24-8e4d-46454facc736",
    "outputId": "3c06aed7-060f-454b-9b6c-245918a679a6",
    "tags": []
   },
   "outputs": [],
   "source": [
    "#Print the new 9PCs dataframe\n",
    "finalDf.head()"
   ]
  },
  {
   "cell_type": "code",
   "execution_count": null,
   "id": "e6c2a06b-6b27-44ba-bdf9-fde21f15429c",
   "metadata": {
    "colab": {
     "base_uri": "https://localhost:8080/"
    },
    "executionInfo": {
     "elapsed": 386,
     "status": "ok",
     "timestamp": 1717817324821,
     "user": {
      "displayName": "aninda astuti",
      "userId": "13240177680153554239"
     },
     "user_tz": -480
    },
    "id": "e6c2a06b-6b27-44ba-bdf9-fde21f15429c",
    "outputId": "4b77406a-debd-42c7-fc22-ed7ddc51af12",
    "tags": []
   },
   "outputs": [],
   "source": [
    "#the shape of the new 9PCs dataframe\n",
    "finalDf.shape"
   ]
  },
  {
   "cell_type": "code",
   "execution_count": null,
   "id": "a8b2472d-bfa7-450c-93a7-0c1c1bf51728",
   "metadata": {
    "colab": {
     "base_uri": "https://localhost:8080/"
    },
    "executionInfo": {
     "elapsed": 2,
     "status": "ok",
     "timestamp": 1717817326377,
     "user": {
      "displayName": "aninda astuti",
      "userId": "13240177680153554239"
     },
     "user_tz": -480
    },
    "id": "a8b2472d-bfa7-450c-93a7-0c1c1bf51728",
    "outputId": "b94fa201-1efb-4be5-cad5-90e468f01fe3",
    "tags": []
   },
   "outputs": [],
   "source": [
    "# Splitting the dataset into the Training set and Test set\n",
    "# https://scikit-learn.org/stable/modules/generated/sklearn.model_selection.train_test_split.html\n",
    "#\n",
    "# X is 9 PCs and y is Class label (0 = non metastasis(Negative), 1 = metastasis(Positive))\n",
    "\n",
    "X_PCA = finalDf.drop('Class Labels',axis=1).values\n",
    "y_PCA = finalDf['Class Labels'].values\n",
    "\n",
    "#if you use random_state=some_number(0,42,82),\n",
    "#then we can guarantee that the spliting data output of Run 1 will be equal to the output of Run 2\n",
    "\n",
    "#from sklearn.model_selection import train_test_split\n",
    "X_train, X_test, y_train, y_test = train_test_split(X_PCA,y_PCA, test_size=1/3,train_size=2/3,random_state=42)\n",
    "\n",
    "print(\"X Training set :\",X_train.shape)\n",
    "print(\"y Training set :\",y_train.shape)\n",
    "print(\"X Test set :\",X_test.shape)\n",
    "print(\"y Test set :\",y_test.shape)\n",
    "\n",
    "print(\"X_train value :\",X_train)\n",
    "print(\"Y_train value :\",y_train)\n",
    "print(\"X_test value :\",X_test)\n",
    "print(\"Y_test value :\",y_test)"
   ]
  },
  {
   "cell_type": "code",
   "execution_count": null,
   "id": "02179fdd-f9d0-48a5-b96d-d1796a71239a",
   "metadata": {},
   "outputs": [],
   "source": []
  },
  {
   "cell_type": "code",
   "execution_count": null,
   "id": "067fd7e9-f9c8-4b91-be53-5f3acc3cc05d",
   "metadata": {
    "id": "067fd7e9-f9c8-4b91-be53-5f3acc3cc05d",
    "tags": []
   },
   "outputs": [],
   "source": [
    "\n",
    "n_feat = n_com\n",
    "n_train = y_train.shape\n",
    "n_test = y_test.shape"
   ]
  },
  {
   "cell_type": "markdown",
   "id": "bkRDsQ5TJJiI",
   "metadata": {
    "id": "bkRDsQ5TJJiI"
   },
   "source": [
    "**4. Imbalance Dataset Using SMOTE**"
   ]
  },
  {
   "cell_type": "code",
   "execution_count": null,
   "id": "1ac2ac7e-cea8-48ea-828e-80ed315eaae8",
   "metadata": {
    "colab": {
     "base_uri": "https://localhost:8080/"
    },
    "executionInfo": {
     "elapsed": 422,
     "status": "ok",
     "timestamp": 1717817343147,
     "user": {
      "displayName": "aninda astuti",
      "userId": "13240177680153554239"
     },
     "user_tz": -480
    },
    "id": "1ac2ac7e-cea8-48ea-828e-80ed315eaae8",
    "outputId": "300f51c6-a93f-4147-fb29-05641d647a91",
    "tags": []
   },
   "outputs": [],
   "source": [
    "from imblearn.over_sampling import SMOTE\n",
    "from collections import Counter\n",
    "# Split the data to train and test dataset.\n",
    "\n",
    "\n",
    "y_before_sm = Counter(y_train)\n",
    "print('Number of data before applying SMOTE :',y_before_sm)\n",
    "# oversampling the train dataset using SMOTE\n",
    "smt = SMOTE(random_state=82,k_neighbors=5)\n",
    "#X_train, y_train = smt.fit_resample(X_train, y_train)\n",
    "X_train_sm, y_train_sm = smt.fit_resample(X_train, y_train)\n",
    "\n",
    "y_after_sm = Counter(y_train_sm)\n",
    "print('Number of data after applying SMOTE :',y_after_sm)"
   ]
  },
  {
   "cell_type": "markdown",
   "id": "G6ZuWgFLJjiw",
   "metadata": {
    "id": "G6ZuWgFLJjiw"
   },
   "source": [
    "**5. Classical SVM Classification**"
   ]
  },
  {
   "cell_type": "code",
   "execution_count": null,
   "id": "95a48c03-dd96-49f8-b27a-1a20278f0442",
   "metadata": {
    "colab": {
     "base_uri": "https://localhost:8080/",
     "height": 74
    },
    "executionInfo": {
     "elapsed": 423,
     "status": "ok",
     "timestamp": 1717817365781,
     "user": {
      "displayName": "aninda astuti",
      "userId": "13240177680153554239"
     },
     "user_tz": -480
    },
    "id": "95a48c03-dd96-49f8-b27a-1a20278f0442",
    "outputId": "f93abb3c-3055-496b-b361-4cdad4ec8d0f",
    "tags": []
   },
   "outputs": [],
   "source": [
    "#Classification using data after smote and using default svm parameter\n",
    "from sklearn import svm\n",
    "svn_sm = svm.SVC()\n",
    "svn_sm.fit(X_train_sm, y_train_sm)"
   ]
  },
  {
   "cell_type": "code",
   "execution_count": null,
   "id": "698a9189-5797-4c97-a8fc-37030e1ede3b",
   "metadata": {
    "colab": {
     "base_uri": "https://localhost:8080/"
    },
    "executionInfo": {
     "elapsed": 477,
     "status": "ok",
     "timestamp": 1717817372572,
     "user": {
      "displayName": "aninda astuti",
      "userId": "13240177680153554239"
     },
     "user_tz": -480
    },
    "id": "698a9189-5797-4c97-a8fc-37030e1ede3b",
    "outputId": "81586317-fa96-4372-aa9c-4ded4d3ad601",
    "tags": []
   },
   "outputs": [],
   "source": [
    "# Predict from the test dataset\n",
    "\n",
    "pred_sm = svn_sm.predict(X_test)\n",
    "\n",
    "# Calculate the accuracy\n",
    "print(\"Accuracy after using SMOTE :\",accuracy_score(y_test, pred_sm))"
   ]
  },
  {
   "cell_type": "code",
   "execution_count": null,
   "id": "df52033c-1a3c-47b8-94b9-aabcccd52483",
   "metadata": {
    "colab": {
     "base_uri": "https://localhost:8080/"
    },
    "executionInfo": {
     "elapsed": 387,
     "status": "ok",
     "timestamp": 1717817375073,
     "user": {
      "displayName": "aninda astuti",
      "userId": "13240177680153554239"
     },
     "user_tz": -480
    },
    "id": "df52033c-1a3c-47b8-94b9-aabcccd52483",
    "outputId": "1a0e9054-2b9e-4881-95c2-ffcad1c64457",
    "tags": []
   },
   "outputs": [],
   "source": [
    "# classification report\n",
    "print(\"Classification after using SMOTE :\\n\")\n",
    "print(classification_report(y_test, pred_sm))\n",
    "\n",
    "print(\"F1 score:\",f1_score(y_test, pred_sm))\n",
    "print(\"Recall score:\",recall_score(y_test, pred_sm))\n",
    "print(\"Accuracy score:\",accuracy_score(y_test, pred_sm))"
   ]
  },
  {
   "cell_type": "code",
   "execution_count": null,
   "id": "3cbdd86f-1a17-4814-9bdc-0faf244bfd89",
   "metadata": {
    "colab": {
     "base_uri": "https://localhost:8080/",
     "height": 472
    },
    "executionInfo": {
     "elapsed": 647,
     "status": "ok",
     "timestamp": 1717817381250,
     "user": {
      "displayName": "aninda astuti",
      "userId": "13240177680153554239"
     },
     "user_tz": -480
    },
    "id": "3cbdd86f-1a17-4814-9bdc-0faf244bfd89",
    "outputId": "da5f5244-44b1-40ba-8859-47bd74d1201d",
    "tags": []
   },
   "outputs": [],
   "source": [
    "ConfusionMatrixDisplay.from_estimator(svn_sm, X_test, y_test)\n",
    "plt.title(\"Confusion matrix after using SMOTE\")\n",
    "plt.show()"
   ]
  },
  {
   "cell_type": "markdown",
   "id": "Hwpi4QTyJvoe",
   "metadata": {
    "id": "Hwpi4QTyJvoe"
   },
   "source": [
    "**6. Hyperparameter Tunning Classical SVC Classification**"
   ]
  },
  {
   "cell_type": "code",
   "execution_count": null,
   "id": "462b6cfa-92e6-41ab-b92c-453e2718e5c3",
   "metadata": {
    "colab": {
     "base_uri": "https://localhost:8080/",
     "height": 1000
    },
    "executionInfo": {
     "elapsed": 5238,
     "status": "ok",
     "timestamp": 1717817403992,
     "user": {
      "displayName": "aninda astuti",
      "userId": "13240177680153554239"
     },
     "user_tz": -480
    },
    "id": "462b6cfa-92e6-41ab-b92c-453e2718e5c3",
    "outputId": "18242f5f-861e-4a83-bd2b-5536595438f2",
    "tags": []
   },
   "outputs": [],
   "source": [
    "#Optimation C and gamma parameter\n",
    "#reference: https://www.geeksforgeeks.org/svm-hyperparameter-tuning-using-gridsearchcv-ml/?ref=rp\n",
    "\n",
    "#set the new for : C = [ 60, 80, 100, 120, 140], gamma = 10e-5 [1/4, 1/2 , 1, 2, 4]\n",
    "#print out the accuracy each combination\n",
    "# defining parameter range\n",
    "param_grid = {'C': [1,20,40,60, 80, 100, 120, 140,160,180,200,210,215,220,225,230,235,240,260],\n",
    "              'gamma': ['scale',(0.0001*1/4),(0.0001*1/2),(0.0001),(0.0001*2),(0.0001*4)],\n",
    "             'kernel': ['rbf']}\n",
    "from sklearn.svm import SVC\n",
    "\n",
    "#param_grid = {'C': [ 0.00001, 0.0001, 0.001, 0.01, 0.1, 1,10,100,1000,10000],\n",
    "#              'gamma': [0.00001, 0.0001, 0.001, 0.01, 0.1, 1,10,100,1000,10000],\n",
    "#              'kernel': ['rbf']}\n",
    "\n",
    "#this code for print 'recall','f1','accuracy', set refit=false\n",
    "#grid = GridSearchCV(SVC(), param_grid,scoring=['recall','f1','accuracy'], refit = False, verbose = 3)\n",
    "\n",
    "#this code for search the best parameters\n",
    "#set refit=true to outomatic select the best parameter and set to svm model\n",
    "grid = GridSearchCV(SVC(), param_grid, refit = True, verbose = 3,cv=5,scoring='f1')\n",
    "\n",
    "\n",
    "# fitting the model for grid search\n",
    "grid.fit(X_train, y_train)"
   ]
  },
  {
   "cell_type": "code",
   "execution_count": null,
   "id": "71ac62e1-6aa0-4cfa-8388-b7dd41d0593a",
   "metadata": {
    "colab": {
     "base_uri": "https://localhost:8080/"
    },
    "executionInfo": {
     "elapsed": 403,
     "status": "ok",
     "timestamp": 1717817408235,
     "user": {
      "displayName": "aninda astuti",
      "userId": "13240177680153554239"
     },
     "user_tz": -480
    },
    "id": "71ac62e1-6aa0-4cfa-8388-b7dd41d0593a",
    "outputId": "c989098e-8026-40f6-9135-9c7265cb5be4",
    "tags": []
   },
   "outputs": [],
   "source": [
    "# print best parameter after tuning\n",
    "print(grid.best_params_)\n",
    "\n",
    "# print how our model looks after hyper-parameter tuning\n",
    "print(grid.best_estimator_)"
   ]
  },
  {
   "cell_type": "code",
   "execution_count": null,
   "id": "7c267cda-b78d-44d2-89a3-74c2c209d076",
   "metadata": {
    "id": "7c267cda-b78d-44d2-89a3-74c2c209d076",
    "tags": []
   },
   "outputs": [],
   "source": [
    "#grid_predictions = grid.predict(X_test)\n",
    "grid_predictions = grid.predict(X_test)"
   ]
  },
  {
   "cell_type": "code",
   "execution_count": null,
   "id": "7b11582a-0b43-4715-b5ae-6343d8791cb7",
   "metadata": {
    "colab": {
     "base_uri": "https://localhost:8080/"
    },
    "executionInfo": {
     "elapsed": 1,
     "status": "ok",
     "timestamp": 1717817410014,
     "user": {
      "displayName": "aninda astuti",
      "userId": "13240177680153554239"
     },
     "user_tz": -480
    },
    "id": "7b11582a-0b43-4715-b5ae-6343d8791cb7",
    "outputId": "f9562251-342d-4e5a-cd12-358d84d2cdaa",
    "tags": []
   },
   "outputs": [],
   "source": [
    "# classification report\n",
    "print(\"SVM Classification using optimal C and gamma parameter :\\n\")\n",
    "print(classification_report(y_test, grid_predictions))\n",
    "\n",
    "print(\"F1 score:\",f1_score(y_test, grid_predictions))\n",
    "print(\"Recall score:\",recall_score(y_test, grid_predictions))\n",
    "print(\"Accuracy score:\",accuracy_score(y_test, grid_predictions))"
   ]
  },
  {
   "cell_type": "code",
   "execution_count": null,
   "id": "9483cdc8-d74a-4a71-bd81-5bdcd41eb1c6",
   "metadata": {
    "colab": {
     "base_uri": "https://localhost:8080/"
    },
    "executionInfo": {
     "elapsed": 505,
     "status": "ok",
     "timestamp": 1717817416684,
     "user": {
      "displayName": "aninda astuti",
      "userId": "13240177680153554239"
     },
     "user_tz": -480
    },
    "id": "9483cdc8-d74a-4a71-bd81-5bdcd41eb1c6",
    "outputId": "0d576ede-e17f-44e6-cd0d-0c17fd761a28",
    "tags": []
   },
   "outputs": [],
   "source": [
    "# Compute confusion matrix\n",
    "cm2 = confusion_matrix(y_test, grid_predictions)\n",
    "print(\"SVM Confusion matrix using optimal C and gamma parameter:\\n\")\n",
    "print(cm2)"
   ]
  },
  {
   "cell_type": "code",
   "execution_count": null,
   "id": "37ce6908-08fb-494f-a687-5ba4eec03443",
   "metadata": {
    "colab": {
     "base_uri": "https://localhost:8080/",
     "height": 472
    },
    "executionInfo": {
     "elapsed": 472,
     "status": "ok",
     "timestamp": 1717817418402,
     "user": {
      "displayName": "aninda astuti",
      "userId": "13240177680153554239"
     },
     "user_tz": -480
    },
    "id": "37ce6908-08fb-494f-a687-5ba4eec03443",
    "outputId": "db41ebf3-7eff-4960-a81b-67330484d591",
    "tags": []
   },
   "outputs": [],
   "source": [
    "ConfusionMatrixDisplay.from_estimator(grid, X_test, y_test)\n",
    "plt.title(\"SVM Confusion matrix using optimal C and gamma parameter\")\n",
    "plt.show()"
   ]
  },
  {
   "cell_type": "markdown",
   "id": "-6BSZaSyKs4g",
   "metadata": {
    "id": "-6BSZaSyKs4g"
   },
   "source": [
    "**7. QSVC**"
   ]
  },
  {
   "cell_type": "code",
   "execution_count": null,
   "id": "02f80663-c1cc-4617-82c5-76032d428daa",
   "metadata": {
    "id": "02f80663-c1cc-4617-82c5-76032d428daa"
   },
   "outputs": [],
   "source": [
    "from qiskit_algorithms.state_fidelities import ComputeUncompute\n",
    "from qiskit.primitives import Sampler\n",
    "\n",
    "fidelity = ComputeUncompute(sampler=Sampler())"
   ]
  },
  {
   "cell_type": "code",
   "execution_count": null,
   "id": "2742f619-123f-4cdb-a7f7-a0d31ee7d299",
   "metadata": {
    "id": "2742f619-123f-4cdb-a7f7-a0d31ee7d299",
    "tags": []
   },
   "outputs": [],
   "source": [
    "#create a new quantum kernel with the fidelity instance.\n",
    "from qiskit.circuit.library import ZZFeatureMap\n",
    "from qiskit_machine_learning.kernels import FidelityQuantumKernel\n",
    "\n",
    "feature_map = ZZFeatureMap(n_feat)\n",
    "new_kernel = FidelityQuantumKernel(feature_map=feature_map, fidelity=fidelity)"
   ]
  },
  {
   "cell_type": "markdown",
   "id": "3269dcc0-f607-42a0-b58e-97a878b7c132",
   "metadata": {
    "id": "3269dcc0-f607-42a0-b58e-97a878b7c132"
   },
   "source": [
    "**8. NQE**"
   ]
  },
  {
   "cell_type": "code",
   "execution_count": null,
   "id": "742f7dac-b60a-49cd-8de4-124eb6c3535c",
   "metadata": {
    "id": "742f7dac-b60a-49cd-8de4-124eb6c3535c",
    "tags": []
   },
   "outputs": [],
   "source": [
    "import numpy as np\n",
    "import tensorflow as tf\n",
    "from sklearn.decomposition import PCA\n",
    "from qiskit import *\n",
    "from qiskit.circuit.library import ZZFeatureMap\n",
    "from qiskit.primitives import Sampler as QiskitSampler\n",
    "from qiskit_aer.noise import NoiseModel\n",
    "\n",
    "from qiskit_ibm_runtime import QiskitRuntimeService, Options, Session, Sampler"
   ]
  },
  {
   "cell_type": "code",
   "execution_count": null,
   "id": "f6347dbe-b357-4273-ba16-de1fa0211c61",
   "metadata": {
    "id": "f6347dbe-b357-4273-ba16-de1fa0211c61",
    "tags": []
   },
   "outputs": [],
   "source": [
    "import torch\n",
    "from torch import cat, no_grad, manual_seed\n",
    "from torch.utils.data import DataLoader\n",
    "from torchvision import datasets, transforms\n",
    "import torch.optim as optim\n",
    "from torch.nn import (\n",
    "    Module,\n",
    "    Conv2d,\n",
    "    Linear,\n",
    "    Dropout2d,\n",
    "    NLLLoss,\n",
    "    MaxPool2d,\n",
    "    Flatten,\n",
    "    Sequential,\n",
    "    ReLU,\n",
    ")\n",
    "import torch.nn.functional as F"
   ]
  },
  {
   "cell_type": "code",
   "execution_count": null,
   "id": "4066559c-6ab9-418f-bacb-24bed0d92648",
   "metadata": {},
   "outputs": [],
   "source": [
    "#pip install torch torchvision torchaudio"
   ]
  },
  {
   "cell_type": "code",
   "execution_count": null,
   "id": "25898565-a929-416d-aa2d-5903f5145438",
   "metadata": {},
   "outputs": [],
   "source": [
    "#pip install torch"
   ]
  },
  {
   "cell_type": "code",
   "execution_count": null,
   "id": "7209925f-2918-4502-9c2d-075f2349b0ea",
   "metadata": {
    "id": "7209925f-2918-4502-9c2d-075f2349b0ea",
    "tags": []
   },
   "outputs": [],
   "source": [
    "import numpy as np\n",
    "import tensorflow as tf\n",
    "from sklearn.decomposition import PCA\n",
    "from qiskit import *\n",
    "from qiskit.circuit.library import ZZFeatureMap\n",
    "from qiskit.primitives import Sampler as QiskitSampler\n",
    "from qiskit_aer.noise import NoiseModel\n",
    "\n",
    "from qiskit_ibm_runtime import QiskitRuntimeService, Options, Session, Sampler"
   ]
  },
  {
   "cell_type": "code",
   "execution_count": null,
   "id": "ba797b77-efd9-4d58-8821-e03f4ffa2421",
   "metadata": {
    "id": "ba797b77-efd9-4d58-8821-e03f4ffa2421"
   },
   "outputs": [],
   "source": [
    "X_train= X_train_sm\n",
    "Y_train= y_train_sm\n",
    "X_test= X_test\n",
    "Y_test= y_test"
   ]
  },
  {
   "cell_type": "code",
   "execution_count": null,
   "id": "d0785ffe-bad6-40b5-94a1-0edb40900284",
   "metadata": {
    "id": "d0785ffe-bad6-40b5-94a1-0edb40900284",
    "tags": []
   },
   "outputs": [],
   "source": [
    "def new_data(batch_size, X, Y):\n",
    "    X1_new, X2_new, Y_new = [], [], []\n",
    "    for i in range(batch_size):\n",
    "        n, m = np.random.randint(len(X)), np.random.randint(len(X))\n",
    "        X1_new.append(X[n])\n",
    "        X2_new.append(X[m])\n",
    "        if Y[n] == Y[m]:\n",
    "            Y_new.append(1)\n",
    "        else:\n",
    "            Y_new.append(0)\n",
    "    X1_new, X2_new, Y_new = torch.tensor(X1_new).to(torch.float32), torch.tensor(X2_new).to(torch.float32), torch.tensor(Y_new).to(torch.float32)\n",
    "    return X1_new, X2_new, Y_new\n",
    "\n",
    "X1_new_valid, X2_new_valid, Y_new_valid = new_data(10, X_test, Y_test)"
   ]
  },
  {
   "cell_type": "code",
   "execution_count": null,
   "id": "dc137112-c126-4033-8d50-d3f1e1d9e4a0",
   "metadata": {
    "colab": {
     "base_uri": "https://localhost:8080/"
    },
    "executionInfo": {
     "elapsed": 15075,
     "status": "ok",
     "timestamp": 1717817631109,
     "user": {
      "displayName": "aninda astuti",
      "userId": "13240177680153554239"
     },
     "user_tz": -480
    },
    "id": "dc137112-c126-4033-8d50-d3f1e1d9e4a0",
    "outputId": "cb5c4936-b79f-4836-8509-a895aaa39ac9",
    "tags": []
   },
   "outputs": [],
   "source": [
    "#pip install pennylane==0.27.0"
   ]
  },
  {
   "cell_type": "code",
   "execution_count": null,
   "id": "cfbaf04a-efd5-48a5-b1c8-c1c0c2cb667c",
   "metadata": {
    "id": "cfbaf04a-efd5-48a5-b1c8-c1c0c2cb667c",
    "tags": []
   },
   "outputs": [],
   "source": [
    "import pennylane as qml\n",
    "from pennylane import numpy as np\n",
    "\n",
    "N_layers = 3\n",
    "\n",
    "# exp(ixZ) gate\n",
    "def exp_Z(x, wires, inverse=False):\n",
    "    if inverse == False:\n",
    "        qml.RZ(-2 * x, wires=wires)\n",
    "    elif inverse == True:\n",
    "        qml.RZ(2 * x, wires=wires)\n",
    "\n",
    "# exp(i(pi - x1)(pi - x2)ZZ) gate\n",
    "def exp_ZZ2(x1, x2, wires, inverse=False):\n",
    "    if inverse == False:\n",
    "        qml.CNOT(wires=wires)\n",
    "        qml.RZ(-2 * (np.pi - x1) * (np.pi - x2), wires=wires[1])\n",
    "        qml.CNOT(wires=wires)\n",
    "    elif inverse == True:\n",
    "        qml.CNOT(wires=wires)\n",
    "        qml.RZ(2 * (np.pi - x1) * (np.pi - x2), wires=wires[1])\n",
    "        qml.CNOT(wires=wires)\n",
    "\n",
    "\n",
    "# Quantum Embedding 1 for model 1 (Conventional ZZ feature embedding)\n",
    "def QuantumEmbedding1(input):\n",
    "    for i in range(N_layers):\n",
    "        for j in range(n_feat):\n",
    "            qml.Hadamard(wires=j)\n",
    "            exp_Z(input[j], wires=j)\n",
    "        for k in range(n_feat-1):\n",
    "            exp_ZZ2(input[k], input[k+1], wires=[k,k+1])\n",
    "        exp_ZZ2(input[n_feat-1], input[0], wires=[n_feat-1, 0])\n",
    "\n",
    "def QuantumEmbedding1_inverse(input):\n",
    "    for i in range(N_layers):\n",
    "        exp_ZZ2(input[n_feat-1], input[0], wires=[n_feat-1, 0], inverse=True)\n",
    "        for k in reversed(range(n_feat-1)):\n",
    "            exp_ZZ2(input[k], input[k+1], wires=[k,k+1], inverse=True)\n",
    "        qml.Barrier()\n",
    "        for j in range(n_feat):\n",
    "            exp_Z(input[j], wires=j, inverse=True)\n",
    "            qml.Hadamard(wires=j)\n",
    "\n",
    "dev = qml.device('default.qubit', wires=n_feat)\n",
    "\n",
    "@qml.qnode(dev, interface=\"torch\")\n",
    "def circuit1(inputs):\n",
    "    QuantumEmbedding1(inputs[0:n_feat])\n",
    "    QuantumEmbedding1_inverse(inputs[n_feat:2 * n_feat])\n",
    "    return qml.probs(wires=range(n_feat))"
   ]
  },
  {
   "cell_type": "code",
   "execution_count": null,
   "id": "f3815ecd-c8b9-4169-9acb-c0351c80fdec",
   "metadata": {
    "id": "f3815ecd-c8b9-4169-9acb-c0351c80fdec",
    "tags": []
   },
   "outputs": [],
   "source": [
    "from torch import nn\n",
    "class Model1_Fidelity(torch.nn.Module):\n",
    "    def __init__(self):\n",
    "        super().__init__()\n",
    "        self.qlayer1 = qml.qnn.TorchLayer(circuit1, weight_shapes={})\n",
    "        self.linear_relu_stack1 = nn.Sequential(\n",
    "            nn.Linear(n_feat, 2 * n_feat),\n",
    "            nn.ReLU(),\n",
    "            nn.Linear(2 * n_feat, 2 * n_feat),\n",
    "            nn.ReLU(),\n",
    "            nn.Linear(2 * n_feat, n_feat)\n",
    "        )\n",
    "    def forward(self, x1, x2):\n",
    "        x1 = self.linear_relu_stack1(x1)\n",
    "        x2 = self.linear_relu_stack1(x2)\n",
    "        x = torch.concat([x1, x2], 1)\n",
    "        x = self.qlayer1(x)\n",
    "        return x[:,0]\n",
    "\n",
    "model = Model1_Fidelity()"
   ]
  },
  {
   "cell_type": "code",
   "execution_count": null,
   "id": "4ef24d3d-7659-4353-b9f2-353463fa0bf6",
   "metadata": {
    "id": "4ef24d3d-7659-4353-b9f2-353463fa0bf6",
    "tags": []
   },
   "outputs": [],
   "source": [
    "# Define model, optimizer, and loss function\n",
    "loss_fn = torch.nn.MSELoss()\n",
    "opt = torch.optim.SGD(model.parameters(), lr=0.01)\n",
    "train_loss=[]\n",
    "# Start training\n",
    "\n",
    "loss_list = []  # Store loss history\n",
    "model.train()  # Set model to training mode\n",
    "\n",
    "iterations = 1000\n",
    "for it in range(iterations):\n",
    "    X1_batch, X2_batch, Y_batch = new_data(10, X_train, Y_train)\n",
    "    pred = model(X1_batch, X2_batch)\n",
    "    loss = loss_fn(pred, Y_batch)\n",
    "    train_loss.append(loss.item())\n",
    "\n",
    "    opt.zero_grad()\n",
    "    loss.backward()\n",
    "    opt.step()\n",
    "\n",
    "    if it % 10 == 0:\n",
    "        print(f\"Iterations: {it} Loss: {loss.item()}\")\n",
    "        with torch.no_grad():\n",
    "            pred_validation = model(X1_new_valid, X2_new_valid)\n",
    "            loss_validation = loss_fn(pred_validation, Y_new_valid)\n",
    "            print(f\"Validation Loss: {loss_validation}\")"
   ]
  },
  {
   "cell_type": "code",
   "execution_count": null,
   "id": "b99c608c-a02b-431f-8b38-7ade847f2646",
   "metadata": {},
   "outputs": [],
   "source": [
    "import pandas as pd\n",
    "\n",
    "# Define model, optimizer, and loss function\n",
    "loss_fn = torch.nn.MSELoss()\n",
    "opt = torch.optim.SGD(model.parameters(), lr=0.01)\n",
    "\n",
    "train_loss = []\n",
    "val_loss = []\n",
    "\n",
    "# Start training\n",
    "model.train()  # Set model to training mode\n",
    "\n",
    "iterations = 1000\n",
    "for it in range(iterations):\n",
    "    X1_batch, X2_batch, Y_batch = new_data(10, X_train, Y_train)\n",
    "    pred = model(X1_batch, X2_batch)\n",
    "    loss = loss_fn(pred, Y_batch)\n",
    "    train_loss.append(loss.item())\n",
    "\n",
    "    opt.zero_grad()\n",
    "    loss.backward()\n",
    "    opt.step()\n",
    "\n",
    "    if it % 10 == 0:\n",
    "        print(f\"Iterations: {it} Loss: {loss.item()}\")\n",
    "        with torch.no_grad():\n",
    "            pred_validation = model(X1_new_valid, X2_new_valid)\n",
    "            loss_validation = loss_fn(pred_validation, Y_new_valid)\n",
    "            val_loss.append(loss_validation.item())\n",
    "            print(f\"Validation Loss: {loss_validation}\")\n",
    "\n",
    "# ===== After training: save to Excel =====\n",
    "# Make val_loss same length as train_loss\n",
    "# Fill missing validation losses with None\n",
    "val_loss_full = [None] * iterations\n",
    "for idx, val in enumerate(val_loss):\n",
    "    val_loss_full[idx * 10] = val\n",
    "\n",
    "# Create DataFrame\n",
    "loss_data = {\n",
    "    'Iteration': list(range(iterations)),\n",
    "    'Training Loss': train_loss,\n",
    "    'Validation Loss': val_loss_full\n",
    "}\n",
    "df_loss = pd.DataFrame(loss_data)\n",
    "\n",
    "# Save to Excel\n",
    "df_loss.to_excel('12_loss_results.xlsx', index=False)\n",
    "print(\"Training and validation loss saved to '12_loss_results.xlsx'.\")\n"
   ]
  },
  {
   "cell_type": "code",
   "execution_count": null,
   "id": "32dead25-1686-432c-8865-95d6a78b0d3a",
   "metadata": {
    "id": "32dead25-1686-432c-8865-95d6a78b0d3a",
    "tags": []
   },
   "outputs": [],
   "source": [
    "plt.plot(train_loss)"
   ]
  },
  {
   "cell_type": "code",
   "execution_count": null,
   "id": "e53f00e2-7173-4ebc-a305-a5a2c0dcd426",
   "metadata": {
    "id": "e53f00e2-7173-4ebc-a305-a5a2c0dcd426",
    "tags": []
   },
   "outputs": [],
   "source": [
    "torch.save(model.state_dict(), 'Model1.pt')"
   ]
  },
  {
   "cell_type": "code",
   "execution_count": null,
   "id": "f07e307f-df6a-432f-a67e-62129c69ccb5",
   "metadata": {
    "id": "f07e307f-df6a-432f-a67e-62129c69ccb5"
   },
   "outputs": [],
   "source": []
  },
  {
   "cell_type": "code",
   "execution_count": null,
   "id": "566d9e11-acc6-4e4f-a2e1-eb766993bae0",
   "metadata": {
    "id": "566d9e11-acc6-4e4f-a2e1-eb766993bae0",
    "tags": []
   },
   "outputs": [],
   "source": [
    "class x_transform(torch.nn.Module):\n",
    "    def __init__(self):\n",
    "        super().__init__()\n",
    "        self.linear_relu_stack1 = nn.Sequential(\n",
    "            nn.Linear(n_feat, 2 * n_feat),\n",
    "            nn.ReLU(),\n",
    "            nn.Linear(2 * n_feat, 2 * n_feat),\n",
    "            nn.ReLU(),\n",
    "            nn.Linear(2 * n_feat, n_feat)\n",
    "        )\n",
    "    def forward(self, x):\n",
    "        x = self.linear_relu_stack1(x)\n",
    "        return x\n",
    "\n",
    "model = x_transform()"
   ]
  },
  {
   "cell_type": "code",
   "execution_count": null,
   "id": "17da8363-f514-4e73-a9c7-9f6fe7e9bd35",
   "metadata": {
    "id": "17da8363-f514-4e73-a9c7-9f6fe7e9bd35",
    "tags": []
   },
   "outputs": [],
   "source": [
    "model.load_state_dict(torch.load('Model1.pt', map_location=torch.device('cpu')))"
   ]
  },
  {
   "cell_type": "code",
   "execution_count": null,
   "id": "926e6628-cc35-47f2-b165-208b17cc5ade",
   "metadata": {
    "id": "926e6628-cc35-47f2-b165-208b17cc5ade",
    "tags": []
   },
   "outputs": [],
   "source": [
    "X_train2 = torch.tensor(X_train).to(torch.float32)\n",
    "X_test2 = torch.tensor(X_test).to(torch.float32)"
   ]
  },
  {
   "cell_type": "code",
   "execution_count": null,
   "id": "50d5bd7f-b864-44f5-94de-21d270d703bc",
   "metadata": {
    "id": "50d5bd7f-b864-44f5-94de-21d270d703bc",
    "tags": []
   },
   "outputs": [],
   "source": [
    "X_train_nn = model(X_train2)\n",
    "X_test_nn = model(X_test2)"
   ]
  },
  {
   "cell_type": "code",
   "execution_count": null,
   "id": "5671c44e-3fbf-4166-864f-6743148d82ac",
   "metadata": {
    "id": "5671c44e-3fbf-4166-864f-6743148d82ac"
   },
   "outputs": [],
   "source": []
  },
  {
   "cell_type": "code",
   "execution_count": null,
   "id": "b3b99a20",
   "metadata": {
    "id": "b3b99a20",
    "tags": []
   },
   "outputs": [],
   "source": [
    "X_train_nn2 = X_train_nn.detach().numpy()\n",
    "X_test_nn2 = X_test_nn.detach().numpy()\n",
    "print(X_train_nn2)\n"
   ]
  },
  {
   "cell_type": "code",
   "execution_count": null,
   "id": "96d4094d-7357-4fc4-9539-c8c0ef45dcf3",
   "metadata": {},
   "outputs": [],
   "source": [
    "import numpy as np\n",
    "import pandas as pd\n",
    "\n",
    "# Assuming X_train_nn2, X_test_nn2, y_train, and y_test are already defined\n",
    "\n",
    "\n",
    "# Concatenate X and y for training and test data along the columns (axis=1)\n",
    "train_data = np.concatenate((X_train_nn2, Y_train.reshape(-1, 1)), axis=1)\n",
    "test_data = np.concatenate((X_test_nn2, Y_test.reshape(-1, 1)), axis=1)\n",
    "\n",
    "\n",
    "# Convert the concatenated data into DataFrames\n",
    "train_df = pd.DataFrame(train_data, columns=[f\"feature_{i+1}\" for i in range(X_train_nn2.shape[1])] + [\"label\"])\n",
    "test_df = pd.DataFrame(test_data, columns=[f\"feature_{i+1}\" for i in range(X_test_nn2.shape[1])] + [\"label\"])\n",
    "print(train_df.shape)\n",
    "print(train_df[\"label\"].value_counts())\n",
    "\n",
    "train_df.to_excel(\"12PCs_X_train_with_labels.xlsx\", index=False)\n",
    "test_df.to_excel(\"12PCs_X_test_with_labels.xlsx\", index=False)\n",
    "\n",
    "print(\"Files saved as 'X_train_with_labels.xlsx' and 'X_test_with_labels.xlsx'\")\n"
   ]
  },
  {
   "cell_type": "markdown",
   "id": "raHoQaVpLbbF",
   "metadata": {
    "id": "raHoQaVpLbbF"
   },
   "source": [
    "**9. QSVC Classification and  Hyperparameter Tunning**"
   ]
  },
  {
   "cell_type": "code",
   "execution_count": null,
   "id": "a4126c34-8461-4a8a-b644-ce7806c74375",
   "metadata": {
    "id": "a4126c34-8461-4a8a-b644-ce7806c74375"
   },
   "outputs": [],
   "source": [
    "# Define the original RBF kernel function\n",
    "from functools import reduce\n",
    "\n",
    "# Define the data mapping function using the original RBF kernel equation\n",
    "#the data map function has 2 parameter input which is x and gamma. x is the input dataset and gamma is the value for rbf kernel\n",
    "#the logic meaning is if the length of dataset=1 then set coeff to the value of data if more than 1 then do calculation\n",
    "#reduce is use to sum all result of calculation\n",
    "#lamdda is used to multiplied the value of dataset gamma\n",
    "def data_map_eq10_ori(x, gamma):\n",
    "    coeff = x[0] if len(x) == 1 else reduce(lambda m, n: np.exp(-gamma*((m - n)*(m - n))), x)\n",
    "    return coeff"
   ]
  },
  {
   "cell_type": "code",
   "execution_count": null,
   "id": "0e06bdf6-0628-476f-b368-9bcb4dcf7a6d",
   "metadata": {
    "id": "0e06bdf6-0628-476f-b368-9bcb4dcf7a6d"
   },
   "outputs": [],
   "source": [
    "from sklearn.model_selection import StratifiedKFold\n",
    "splits=5\n",
    "skf = StratifiedKFold(n_splits=splits)\n",
    "from sklearn.svm import SVC\n",
    "from sklearn.metrics import accuracy_score,f1_score\n"
   ]
  },
  {
   "cell_type": "code",
   "execution_count": null,
   "id": "7ad16c29-2aa2-4fb4-a402-c74da9e8f84b",
   "metadata": {},
   "outputs": [],
   "source": [
    "n_features = X_train_nn2.shape[1]\n",
    "g_scale = 1 / (n_features * X_train_nn2.var())\n",
    "g_scale"
   ]
  },
  {
   "cell_type": "code",
   "execution_count": null,
   "id": "d73fb65d-c364-4760-a998-253ca584bb92",
   "metadata": {
    "scrolled": true
   },
   "outputs": [],
   "source": [
    "from qiskit_machine_learning.algorithms import QSVC\n",
    "from sklearn.metrics import confusion_matrix, f1_score\n",
    "import math\n",
    "import time\n",
    "from itertools import product\n",
    "import statistics\n",
    "import pandas as pd\n",
    "\n",
    "# Define the hyperparameters to search over\n",
    "n_features = X_train_nn2.shape[1]\n",
    "g_scale = 1 / (n_features * X_train_nn2.var())\n",
    "\n",
    "gamma_values = [g_scale/10, g_scale/100, g_scale, g_scale + 50]\n",
    "C_values = [0.1, 1, 10]\n",
    "best_f1 = 0.0\n",
    "best_gamma = None\n",
    "best_C = None\n",
    "start_time = time.time()\n",
    "\n",
    "# Prepare a list to collect results\n",
    "results = []\n",
    "\n",
    "for gamma_val, C_val in product(gamma_values, C_values):\n",
    "    data_map_func_rbf = lambda x: data_map_eq10_ori(x, gamma_val)\n",
    "    rbf_feature_map = ZZFeatureMap(feature_dimension=n_feat, reps=2, entanglement='linear', data_map_func=data_map_func_rbf)\n",
    "    new_kernel = FidelityQuantumKernel(feature_map=rbf_feature_map, fidelity=fidelity)\n",
    "    qsvc = QSVC(quantum_kernel=new_kernel, C=C_val)\n",
    "\n",
    "    F1_num = []  # Store F1 scores for each fold\n",
    "    for i, (train_index, val_index) in enumerate(skf.split(X_train_nn2, Y_train)):\n",
    "        X_train_fold, X_val_fold = X_train_nn2[train_index], X_train_nn2[val_index]\n",
    "        Y_train_fold, Y_val_fold = Y_train[train_index], Y_train[val_index]\n",
    "\n",
    "        # Train the QSVC classifier\n",
    "        qsvc.fit(X_train_fold, Y_train_fold)\n",
    "\n",
    "        # Predict the labels for the validation data\n",
    "        predicted_labels = qsvc.predict(X_val_fold)\n",
    "\n",
    "        # Confusion Matrix Calculation\n",
    "        tn, fp, fn, tp = confusion_matrix(Y_val_fold, predicted_labels).ravel()\n",
    "        print(\"tn:\",tp,\"fp:\",fp,\"fn:\",fn,\"tp:\",tp)\n",
    "        # Calculate metrics using provided formulas\n",
    "        TPR = tp / (tp + fn)\n",
    "        SPC = tn / (fp + tn)\n",
    "        PPV = tp / (tp + fp)\n",
    "        NPV = tn / (tn + fn) \n",
    "        FPR = fp / (fp + tn)\n",
    "        FDR = fp / (fp + tp) \n",
    "        FNR = fn / (fn + tp) \n",
    "        ACC = (tp + tn) / (tn + fp + fn + tp) \n",
    "        F1 = 2 * tp / (2 * tp + fp + fn) \n",
    "        MCC = ((tp * tn) - (fp * fn)) / math.sqrt((tp + fp) * (tp + fn) * (tn + fp) * (tn + fn)) \n",
    "\n",
    "        # Append F1 score for this fold\n",
    "        F1_num.append(F1)\n",
    "\n",
    "        # Append metrics for this fold\n",
    "        results.append({\n",
    "            \"Gamma\": gamma_val,\n",
    "            \"C\": C_val,\n",
    "            \"Fold\": i + 1,\n",
    "            \"TP\": tp, \"TN\": tn, \"FP\": fp, \"FN\": fn,\n",
    "            \"TPR\": TPR, \"SPC\": SPC, \"PPV\": PPV, \"NPV\": NPV,\n",
    "            \"FPR\": FPR, \"FDR\": FDR, \"FNR\": FNR, \"ACC\": ACC,\n",
    "            \"F1\": F1, \"MCC\": MCC\n",
    "        })\n",
    "\n",
    "    # Calculate the average F1 score across folds\n",
    "    avg_F1 = statistics.mean(F1_num)\n",
    "    print(f\"Gamma: {gamma_val}, C: {C_val}, Average F1 Score: {avg_F1}\")\n",
    "\n",
    "    # Track the best hyperparameters based on average F1 score\n",
    "    if avg_F1 > best_f1:\n",
    "        best_f1 = avg_F1\n",
    "        best_gamma = gamma_val\n",
    "        best_C = C_val\n",
    "\n",
    "# Print the best hyperparameters and F1 score\n",
    "print(\"Best gamma:\", best_gamma)\n",
    "print(\"Best C:\", best_C)\n",
    "print(\"Best Average F1 Score:\", best_f1)\n",
    "\n",
    "# Save results to a CSV file\n",
    "results_df = pd.DataFrame(results)\n",
    "results_df.to_csv(\"qsvc_12PCs_cross_validation_results.csv\", index=False)\n",
    "\n",
    "end_time = time.time()\n",
    "execution_time = end_time - start_time\n",
    "print(\"Total execution time:\", execution_time, \"seconds\")\n",
    "print(\"Results saved to 'qsvc_12PCs_cross_validation_results.csv'\")\n"
   ]
  },
  {
   "cell_type": "code",
   "execution_count": null,
   "id": "3b374d8a-699f-4c36-977a-26034bc3a604",
   "metadata": {},
   "outputs": [],
   "source": [
    "from qiskit_algorithms.state_fidelities import ComputeUncompute\n",
    "from qiskit.primitives import Sampler\n",
    "\n",
    "fidelity = ComputeUncompute(sampler=Sampler())\n",
    "#create a new quantum kernel with the fidelity instance.\n",
    "from qiskit.circuit.library import ZZFeatureMap\n",
    "from qiskit_machine_learning.kernels import FidelityQuantumKernel\n",
    "n_feat=4\n",
    "feature_map = ZZFeatureMap(n_feat)\n",
    "new_kernel = FidelityQuantumKernel(feature_map=feature_map, fidelity=fidelity)"
   ]
  },
  {
   "cell_type": "code",
   "execution_count": null,
   "id": "5746b6a4-4d8d-4dea-8a58-2cdda89576fe",
   "metadata": {
    "id": "5746b6a4-4d8d-4dea-8a58-2cdda89576fe",
    "tags": []
   },
   "outputs": [],
   "source": [
    "#QSVM+NN using best gamma and C by rbf kernel\n",
    "from qiskit_machine_learning.algorithms import QSVC\n",
    "gamma = best_gamma\n",
    "#gamma = 9.475\n",
    "#best_C=1\n",
    "best_C=best_C\n",
    "data_map_func_rbf = lambda x: data_map_eq10_ori(x, gamma)\n",
    "rbf_feature_map = ZZFeatureMap(feature_dimension=n_feat, reps=2, entanglement='linear', data_map_func=data_map_func_rbf)\n",
    "new_kernel = FidelityQuantumKernel(feature_map=rbf_feature_map, fidelity=fidelity)\n",
    "\n",
    "\n",
    "qsvc = QSVC(quantum_kernel=new_kernel, C=best_C)\n",
    "\n",
    "\n",
    "# Train the QSVC classifier\n",
    "qsvc.fit(X_train_nn2, Y_train)\n",
    "\n",
    "# Predict the labels for the test data\n",
    "predicted_labels = qsvc.predict(X_test_nn2)\n",
    "\n",
    "# Evaluate the classification accuracy\n",
    "qsvc_score = qsvc.score(X_test_nn2, Y_test)\n",
    "\n",
    "print(f\"QSVM+NN classification test score: {qsvc_score}\")"
   ]
  },
  {
   "cell_type": "code",
   "execution_count": null,
   "id": "98783f26-395c-428a-9fc2-b10dccacc1c9",
   "metadata": {
    "id": "98783f26-395c-428a-9fc2-b10dccacc1c9",
    "tags": []
   },
   "outputs": [],
   "source": [
    "from sklearn.metrics import classification_report,confusion_matrix\n",
    "print(\"QSVM+NN result:\\n\")\n",
    "print(classification_report(y_test, predicted_labels))\n",
    "print(\"F1 :\",f1_score(y_test, predicted_labels))"
   ]
  },
  {
   "cell_type": "code",
   "execution_count": null,
   "id": "00f0ac5d-49f7-41be-9aa6-3906c6986b27",
   "metadata": {
    "id": "00f0ac5d-49f7-41be-9aa6-3906c6986b27",
    "tags": []
   },
   "outputs": [],
   "source": [
    "ConfusionMatrixDisplay.from_estimator(qsvc, X_test_nn2, Y_test)\n",
    "plt.title(\"QSVM+NN Confusion matrix using optimal C and gamma parameter\")\n",
    "plt.show()"
   ]
  },
  {
   "cell_type": "markdown",
   "id": "rE8b8fFBMG8u",
   "metadata": {
    "id": "rE8b8fFBMG8u"
   },
   "source": [
    "**10. Classical SVC Classification and Hyperparameter Tunning**"
   ]
  },
  {
   "cell_type": "code",
   "execution_count": null,
   "id": "b0093634-2558-4a91-9f28-d229baac3efe",
   "metadata": {
    "id": "b0093634-2558-4a91-9f28-d229baac3efe",
    "tags": []
   },
   "outputs": [],
   "source": [
    "#Optimation C and gamma parameter\n",
    "#reference: https://www.geeksforgeeks.org/svm-hyperparameter-tuning-using-gridsearchcv-ml/?ref=rp\n",
    "\n",
    "#set the new for : C = [ 60, 80, 100, 120, 140], gamma = 10e-5 [1/4, 1/2 , 1, 2, 4]\n",
    "#print out the accuracy each combination\n",
    "# defining parameter range\n",
    "param_grid = {'C': [1,20,40,60, 80, 100, 120, 140,160,180,200,210,215,220,225,230,235,240,260],\n",
    "              'gamma': ['scale',(0.0001*1/4),(0.0001*1/2),(0.0001),(0.0001*2),(0.0001*4)],\n",
    "             'kernel': ['rbf']}\n",
    "from sklearn.svm import SVC\n",
    "\n",
    "#param_grid = {'C': [ 0.00001, 0.0001, 0.001, 0.01, 0.1, 1,10,100,1000,10000],\n",
    "#              'gamma': [0.00001, 0.0001, 0.001, 0.01, 0.1, 1,10,100,1000,10000],\n",
    "#              'kernel': ['rbf']}\n",
    "\n",
    "#this code for print 'recall','f1','accuracy', set refit=false\n",
    "#grid = GridSearchCV(SVC(), param_grid,scoring=['recall','f1','accuracy'], refit = False, verbose = 3)\n",
    "\n",
    "#this code for search the best parameters\n",
    "#set refit=true to outomatic select the best parameter and set to svm model\n",
    "grid_ml = GridSearchCV(SVC(), param_grid, refit = True, verbose = 3,cv=5,scoring='f1')\n",
    "\n",
    "\n",
    "# fitting the model for grid search\n",
    "grid_ml.fit(X_train_nn2, Y_train)"
   ]
  },
  {
   "cell_type": "code",
   "execution_count": null,
   "id": "ad4723bc-5ebc-4dc7-99ba-02a4e40804c2",
   "metadata": {
    "id": "ad4723bc-5ebc-4dc7-99ba-02a4e40804c2",
    "tags": []
   },
   "outputs": [],
   "source": [
    "# print best parameter after tuning\n",
    "print(grid_ml.best_params_)\n",
    "\n",
    "# print how our model looks after hyper-parameter tuning\n",
    "print(grid_ml.best_estimator_)"
   ]
  },
  {
   "cell_type": "code",
   "execution_count": null,
   "id": "f9b6b1c2-7c1d-4b9a-bbf0-9f861d16a19f",
   "metadata": {
    "id": "f9b6b1c2-7c1d-4b9a-bbf0-9f861d16a19f",
    "tags": []
   },
   "outputs": [],
   "source": [
    "#grid_predictions = grid.predict(X_test)\n",
    "grid_predictions_ml = grid_ml.predict(X_test_nn2)"
   ]
  },
  {
   "cell_type": "code",
   "execution_count": null,
   "id": "d79d4e9b-f1bf-4cfd-a5b1-7b03d349e28d",
   "metadata": {
    "id": "d79d4e9b-f1bf-4cfd-a5b1-7b03d349e28d",
    "tags": []
   },
   "outputs": [],
   "source": [
    "# classification report\n",
    "print(\"SVM+NN Classification  :\\n\")\n",
    "print(classification_report(y_test, grid_predictions_ml))\n",
    "\n",
    "print(\"F1 score:\",f1_score(y_test, grid_predictions_ml))\n",
    "print(\"Recall score:\",recall_score(y_test, grid_predictions_ml))\n",
    "print(\"Accuracy score:\",accuracy_score(y_test, grid_predictions_ml))"
   ]
  },
  {
   "cell_type": "code",
   "execution_count": null,
   "id": "c8b171c2-9a8a-4774-86e1-77f42c8abd12",
   "metadata": {
    "id": "c8b171c2-9a8a-4774-86e1-77f42c8abd12",
    "tags": []
   },
   "outputs": [],
   "source": [
    "# Compute confusion matrix\n",
    "cm2_ml = confusion_matrix(y_test, grid_predictions_ml)\n",
    "print(\"SVM+NN Confusion matrix using optimal C and gamma parameter:\\n\")\n",
    "print(cm2_ml)"
   ]
  },
  {
   "cell_type": "code",
   "execution_count": null,
   "id": "1b6fa910-d659-4212-828f-a78f98540f39",
   "metadata": {
    "id": "1b6fa910-d659-4212-828f-a78f98540f39"
   },
   "outputs": [],
   "source": [
    "from sklearn.svm import SVC  # Import classical SVC\n",
    "from sklearn.metrics import confusion_matrix, f1_score\n",
    "import math\n",
    "import time\n",
    "from itertools import product\n",
    "import statistics\n",
    "import pandas as pd\n",
    "\n",
    "# Define the hyperparameters to search over\n",
    "n_features = X_train_nn2.shape[1]\n",
    "g_scale = 1 / (n_features * X_train_nn2.var())\n",
    "\n",
    "gamma_values =[(0.0001*1/4),(0.0001*1/2),(0.0001),(0.0001*2),(0.0001*4),0.00001, 0.0001, 0.001, 0.01, 0.1, 1,10,100,500,1000,g_scale/10,g_scale/100,g_scale,g_scale+10,g_scale+20,g_scale+30,g_scale+40,g_scale+50]\n",
    "C_values = [1,20,40,60,80,100,120,140,160,180,200,210,215,220,225,230,235,240,260]\n",
    "best_f1 = 0.0\n",
    "best_gamma = None\n",
    "best_C = None\n",
    "start_time = time.time()\n",
    "\n",
    "# Prepare a list to collect results\n",
    "results = []\n",
    "\n",
    "for gamma_val, C_val in product(gamma_values, C_values):\n",
    "    # Create classical SVC instead of QSVC\n",
    "    svc = SVC(C=C_val, kernel='rbf', gamma=gamma_val)  # SVC with RBF kernel\n",
    "\n",
    "    F1_num = []  # Store F1 scores for each fold\n",
    "    for i, (train_index, val_index) in enumerate(skf.split(X_train_nn2, Y_train)):\n",
    "        X_train_fold, X_val_fold = X_train_nn2[train_index], X_train_nn2[val_index]\n",
    "        Y_train_fold, Y_val_fold = Y_train[train_index], Y_train[val_index]\n",
    "\n",
    "        # Train the SVC classifier\n",
    "        svc.fit(X_train_fold, Y_train_fold)\n",
    "\n",
    "        # Predict the labels for the validation data\n",
    "        predicted_labels = svc.predict(X_val_fold)\n",
    "\n",
    "        # Confusion Matrix Calculation\n",
    "        tn, fp, fn, tp = confusion_matrix(Y_val_fold, predicted_labels).ravel()\n",
    "        print(\"tn:\", tp, \"fp:\", fp, \"fn:\", fn, \"tp:\", tp)\n",
    "        \n",
    "        # Calculate metrics using provided formulas\n",
    "        TPR = tp / (tp + fn)\n",
    "        SPC = tn / (fp + tn)\n",
    "        PPV = tp / (tp + fp)\n",
    "        NPV = tn / (tn + fn)\n",
    "        FPR = fp / (fp + tn)\n",
    "        FDR = fp / (fp + tp)\n",
    "        FNR = fn / (fn + tp)\n",
    "        ACC = (tp + tn) / (tn + fp + fn + tp)\n",
    "        F1 = 2 * tp / (2 * tp + fp + fn)\n",
    "        MCC = ((tp * tn) - (fp * fn)) / math.sqrt((tp + fp) * (tp + fn) * (tn + fp) * (tn + fn))\n",
    "\n",
    "        # Append F1 score for this fold\n",
    "        F1_num.append(F1)\n",
    "\n",
    "        # Append metrics for this fold\n",
    "        results.append({\n",
    "            \"Gamma\": gamma_val,\n",
    "            \"C\": C_val,\n",
    "            \"Fold\": i + 1,\n",
    "            \"TP\": tp, \"TN\": tn, \"FP\": fp, \"FN\": fn,\n",
    "            \"TPR\": TPR, \"SPC\": SPC, \"PPV\": PPV, \"NPV\": NPV,\n",
    "            \"FPR\": FPR, \"FDR\": FDR, \"FNR\": FNR, \"ACC\": ACC,\n",
    "            \"F1\": F1, \"MCC\": MCC\n",
    "        })\n",
    "\n",
    "    # Calculate the average F1 score across folds\n",
    "    avg_F1 = statistics.mean(F1_num)\n",
    "    print(f\"Gamma: {gamma_val}, C: {C_val}, Average F1 Score: {avg_F1}\")\n",
    "\n",
    "    # Track the best hyperparameters based on average F1 score\n",
    "    if avg_F1 > best_f1:\n",
    "        best_f1 = avg_F1\n",
    "        best_gamma = gamma_val\n",
    "        best_C = C_val\n",
    "\n",
    "# Print the best hyperparameters and F1 score\n",
    "print(\"Best gamma:\", best_gamma)\n",
    "print(\"Best C:\", best_C)\n",
    "print(\"Best Average F1 Score:\", best_f1)\n",
    "\n",
    "# Save results to an Excel file\n",
    "results_df = pd.DataFrame(results)\n",
    "results_df.to_excel(\"SVC_12PCs_cross_validation_results.xlsx\", index=False)\n",
    "\n",
    "end_time = time.time()\n",
    "execution_time = end_time - start_time\n",
    "print(\"Total execution time:\", execution_time, \"seconds\")\n",
    "print(\"Results saved to 'SVC_12PCs_cross_validation_results.xlsx'\")\n"
   ]
  }
 ],
 "metadata": {
  "accelerator": "GPU",
  "colab": {
   "gpuType": "T4",
   "provenance": []
  },
  "kernelspec": {
   "display_name": "Python 3 (ipykernel)",
   "language": "python",
   "name": "python3"
  },
  "language_info": {
   "codemirror_mode": {
    "name": "ipython",
    "version": 3
   },
   "file_extension": ".py",
   "mimetype": "text/x-python",
   "name": "python",
   "nbconvert_exporter": "python",
   "pygments_lexer": "ipython3",
   "version": "3.12.4"
  }
 },
 "nbformat": 4,
 "nbformat_minor": 5
}
